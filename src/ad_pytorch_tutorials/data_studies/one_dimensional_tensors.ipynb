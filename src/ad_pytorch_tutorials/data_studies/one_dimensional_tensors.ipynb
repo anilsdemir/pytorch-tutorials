{
 "cells": [
  {
   "cell_type": "code",
   "execution_count": 51,
   "outputs": [],
   "source": [
    "import torch\n",
    "import numpy as np\n",
    "import matplotlib.pyplot as plt"
   ],
   "metadata": {
    "collapsed": false,
    "pycharm": {
     "name": "#%%\n"
    }
   }
  },
  {
   "cell_type": "markdown",
   "source": [
    "##### One-dimensional Tensors (Vectors)"
   ],
   "metadata": {
    "collapsed": false,
    "pycharm": {
     "name": "#%% md\n"
    }
   }
  },
  {
   "cell_type": "code",
   "execution_count": 52,
   "outputs": [
    {
     "name": "stdout",
     "output_type": "stream",
     "text": [
      "tensor([1, 2, 3, 4, 5, 6])\n"
     ]
    }
   ],
   "source": [
    "one_dimensional_tensor = torch.tensor([1, 2, 3, 4, 5, 6])\n",
    "print(one_dimensional_tensor)"
   ],
   "metadata": {
    "collapsed": false,
    "pycharm": {
     "name": "#%%\n"
    }
   }
  },
  {
   "cell_type": "markdown",
   "source": [
    "Tensor Types"
   ],
   "metadata": {
    "collapsed": false,
    "pycharm": {
     "name": "#%% md\n"
    }
   }
  },
  {
   "cell_type": "code",
   "execution_count": 53,
   "outputs": [
    {
     "name": "stdout",
     "output_type": "stream",
     "text": [
      "Tensor type is : torch.int64\n"
     ]
    }
   ],
   "source": [
    "print(f\"Tensor type is : {one_dimensional_tensor.dtype}\")"
   ],
   "metadata": {
    "collapsed": false,
    "pycharm": {
     "name": "#%%\n"
    }
   }
  },
  {
   "cell_type": "markdown",
   "source": [
    "##### Tensor Indexing"
   ],
   "metadata": {
    "collapsed": false,
    "pycharm": {
     "name": "#%% md\n"
    }
   }
  },
  {
   "cell_type": "code",
   "execution_count": 54,
   "outputs": [
    {
     "name": "stdout",
     "output_type": "stream",
     "text": [
      "The first value is: 1\n"
     ]
    }
   ],
   "source": [
    "print(f\"The first value is: {one_dimensional_tensor[0]}\")"
   ],
   "metadata": {
    "collapsed": false,
    "pycharm": {
     "name": "#%%\n"
    }
   }
  },
  {
   "cell_type": "code",
   "execution_count": 55,
   "outputs": [
    {
     "name": "stdout",
     "output_type": "stream",
     "text": [
      "First index to fourth index: tensor([2, 3, 4])\n"
     ]
    }
   ],
   "source": [
    "print(f\"First index to fourth index: {one_dimensional_tensor[1:4]}\")"
   ],
   "metadata": {
    "collapsed": false,
    "pycharm": {
     "name": "#%%\n"
    }
   }
  },
  {
   "cell_type": "code",
   "execution_count": 56,
   "outputs": [
    {
     "name": "stdout",
     "output_type": "stream",
     "text": [
      "First index to beyond: tensor([2, 3, 4, 5, 6])\n"
     ]
    }
   ],
   "source": [
    "print(f\"First index to beyond: {one_dimensional_tensor[1:]}\")"
   ],
   "metadata": {
    "collapsed": false,
    "pycharm": {
     "name": "#%%\n"
    }
   }
  },
  {
   "cell_type": "markdown",
   "source": [
    "##### Float Tensor"
   ],
   "metadata": {
    "collapsed": false,
    "pycharm": {
     "name": "#%% md\n"
    }
   }
  },
  {
   "cell_type": "code",
   "execution_count": 57,
   "outputs": [
    {
     "name": "stdout",
     "output_type": "stream",
     "text": [
      "tensor([1., 2., 3., 4., 5., 6.])\n",
      "Tensor type is : torch.float32\n"
     ]
    }
   ],
   "source": [
    "float_tensor = torch.FloatTensor([1, 2, 3, 4, 5, 6])\n",
    "print(float_tensor)\n",
    "print(f\"Tensor type is : {float_tensor.dtype}\")"
   ],
   "metadata": {
    "collapsed": false,
    "pycharm": {
     "name": "#%%\n"
    }
   }
  },
  {
   "cell_type": "markdown",
   "source": [
    "##### Tensor Size"
   ],
   "metadata": {
    "collapsed": false,
    "pycharm": {
     "name": "#%% md\n"
    }
   }
  },
  {
   "cell_type": "code",
   "execution_count": 58,
   "outputs": [
    {
     "name": "stdout",
     "output_type": "stream",
     "text": [
      "float_tensor size is: torch.Size([6])\n"
     ]
    }
   ],
   "source": [
    "print(f\"float_tensor size is: {float_tensor.size()}\")"
   ],
   "metadata": {
    "collapsed": false,
    "pycharm": {
     "name": "#%%\n"
    }
   }
  },
  {
   "cell_type": "markdown",
   "source": [
    "##### Reshape Tensors\n",
    "When we rearrange tensor we have to give compatible dimensions with our original tensor"
   ],
   "metadata": {
    "collapsed": false,
    "pycharm": {
     "name": "#%% md\n"
    }
   }
  },
  {
   "cell_type": "code",
   "execution_count": 59,
   "outputs": [
    {
     "data": {
      "text/plain": "tensor([[1],\n        [2],\n        [3],\n        [4],\n        [5],\n        [6]])"
     },
     "execution_count": 59,
     "metadata": {},
     "output_type": "execute_result"
    }
   ],
   "source": [
    "one_dimensional_tensor.view(6, 1)"
   ],
   "metadata": {
    "collapsed": false,
    "pycharm": {
     "name": "#%%\n"
    }
   }
  },
  {
   "cell_type": "code",
   "execution_count": 60,
   "outputs": [
    {
     "data": {
      "text/plain": "tensor([[1, 2],\n        [3, 4],\n        [5, 6]])"
     },
     "execution_count": 60,
     "metadata": {},
     "output_type": "execute_result"
    }
   ],
   "source": [
    "one_dimensional_tensor.view(3, 2)"
   ],
   "metadata": {
    "collapsed": false,
    "pycharm": {
     "name": "#%%\n"
    }
   }
  },
  {
   "cell_type": "markdown",
   "source": [
    "When we want to explicitly specify the number of columns we can use -1"
   ],
   "metadata": {
    "collapsed": false,
    "pycharm": {
     "name": "#%% md\n"
    }
   }
  },
  {
   "cell_type": "code",
   "execution_count": 61,
   "outputs": [
    {
     "data": {
      "text/plain": "tensor([[1, 2],\n        [3, 4],\n        [5, 6]])"
     },
     "execution_count": 61,
     "metadata": {},
     "output_type": "execute_result"
    }
   ],
   "source": [
    "one_dimensional_tensor.view(3, -1)"
   ],
   "metadata": {
    "collapsed": false,
    "pycharm": {
     "name": "#%%\n"
    }
   }
  },
  {
   "cell_type": "markdown",
   "source": [
    " ##### Convert Numpy Arrays To Tensors"
   ],
   "metadata": {
    "collapsed": false,
    "pycharm": {
     "name": "#%% md\n"
    }
   }
  },
  {
   "cell_type": "code",
   "execution_count": 62,
   "outputs": [
    {
     "name": "stdout",
     "output_type": "stream",
     "text": [
      "tensor([1, 2, 3, 4, 5, 6]) Tensor type is : torch.int64\n"
     ]
    }
   ],
   "source": [
    "np_array = np.array([1, 2, 3, 4, 5, 6])\n",
    "tensor_conversion_from_np_array = torch.from_numpy(np_array)\n",
    "print(tensor_conversion_from_np_array, f\"Tensor type is : {tensor_conversion_from_np_array.dtype}\")"
   ],
   "metadata": {
    "collapsed": false,
    "pycharm": {
     "name": "#%%\n"
    }
   }
  },
  {
   "cell_type": "markdown",
   "source": [
    "Or we can do that too"
   ],
   "metadata": {
    "collapsed": false,
    "pycharm": {
     "name": "#%% md\n"
    }
   }
  },
  {
   "cell_type": "code",
   "execution_count": 63,
   "outputs": [
    {
     "name": "stdout",
     "output_type": "stream",
     "text": [
      "tensor([1, 2, 3, 4, 5, 6]) Tensor type is : torch.int64\n"
     ]
    }
   ],
   "source": [
    "tensor_conversion_from_np_array_as_tensor = torch.as_tensor(np_array)\n",
    "print(tensor_conversion_from_np_array_as_tensor, f\"Tensor type is : {tensor_conversion_from_np_array_as_tensor.dtype}\")"
   ],
   "metadata": {
    "collapsed": false,
    "pycharm": {
     "name": "#%%\n"
    }
   }
  },
  {
   "cell_type": "code",
   "execution_count": 64,
   "outputs": [
    {
     "name": "stdout",
     "output_type": "stream",
     "text": [
      "[1 2 3 4 5 6]\n"
     ]
    }
   ],
   "source": [
    "numpy_conversion_from_tensor = np.asanyarray(tensor_conversion_from_np_array_as_tensor)\n",
    "print(numpy_conversion_from_tensor)"
   ],
   "metadata": {
    "collapsed": false,
    "pycharm": {
     "name": "#%%\n"
    }
   }
  },
  {
   "cell_type": "markdown",
   "source": [
    "##### Tensor Operations"
   ],
   "metadata": {
    "collapsed": false,
    "pycharm": {
     "name": "#%% md\n"
    }
   }
  },
  {
   "cell_type": "code",
   "execution_count": 65,
   "outputs": [],
   "source": [
    "first_tensor = torch.tensor([1, 2, 3])\n",
    "second_tensor = torch.tensor([1, 2, 3])"
   ],
   "metadata": {
    "collapsed": false,
    "pycharm": {
     "name": "#%%\n"
    }
   }
  },
  {
   "cell_type": "code",
   "execution_count": 66,
   "outputs": [
    {
     "name": "stdout",
     "output_type": "stream",
     "text": [
      "Sum of two tensors:  tensor([2, 4, 6])\n",
      "Multiplication of two tensors:  tensor([1, 4, 9])\n",
      "Multiplication of a tensor by an integer:  tensor([ 5, 10, 15])\n",
      "Sum all values after multiplication of two tensors:  tensor(14)\n"
     ]
    }
   ],
   "source": [
    "print(f\"Sum of two tensors: \", first_tensor + second_tensor)\n",
    "print(f\"Multiplication of two tensors: \", first_tensor * second_tensor)\n",
    "print(f\"Multiplication of a tensor by an integer: \", first_tensor * 5)\n",
    "print(f\"Sum all values after multiplication of two tensors: \", torch.dot(first_tensor, second_tensor))"
   ],
   "metadata": {
    "collapsed": false,
    "pycharm": {
     "name": "#%%\n"
    }
   }
  },
  {
   "cell_type": "code",
   "execution_count": 67,
   "outputs": [
    {
     "name": "stdout",
     "output_type": "stream",
     "text": [
      "Sum all values after multiplication of two tensors:  tensor(14)\n",
      "0 to 100 with 100 step size:  tensor([  0.0000,   1.0101,   2.0202,   3.0303,   4.0404,   5.0505,   6.0606,\n",
      "          7.0707,   8.0808,   9.0909,  10.1010,  11.1111,  12.1212,  13.1313,\n",
      "         14.1414,  15.1515,  16.1616,  17.1717,  18.1818,  19.1919,  20.2020,\n",
      "         21.2121,  22.2222,  23.2323,  24.2424,  25.2525,  26.2626,  27.2727,\n",
      "         28.2828,  29.2929,  30.3030,  31.3131,  32.3232,  33.3333,  34.3434,\n",
      "         35.3535,  36.3636,  37.3737,  38.3838,  39.3939,  40.4040,  41.4141,\n",
      "         42.4242,  43.4343,  44.4444,  45.4545,  46.4646,  47.4747,  48.4848,\n",
      "         49.4949,  50.5051,  51.5152,  52.5253,  53.5354,  54.5455,  55.5556,\n",
      "         56.5657,  57.5758,  58.5859,  59.5960,  60.6061,  61.6162,  62.6263,\n",
      "         63.6364,  64.6465,  65.6566,  66.6667,  67.6768,  68.6869,  69.6970,\n",
      "         70.7071,  71.7172,  72.7273,  73.7374,  74.7475,  75.7576,  76.7677,\n",
      "         77.7778,  78.7879,  79.7980,  80.8081,  81.8182,  82.8283,  83.8384,\n",
      "         84.8485,  85.8586,  86.8687,  87.8788,  88.8889,  89.8990,  90.9091,\n",
      "         91.9192,  92.9293,  93.9394,  94.9495,  95.9596,  96.9697,  97.9798,\n",
      "         98.9899, 100.0000])\n"
     ]
    }
   ],
   "source": [
    "print(f\"Sum all values after multiplication of two tensors: \", torch.dot(first_tensor, second_tensor))\n",
    "print(f\"0 to 100 with 100 step size: \", torch.linspace(0, 100, 100))"
   ],
   "metadata": {
    "collapsed": false,
    "pycharm": {
     "name": "#%%\n"
    }
   }
  },
  {
   "cell_type": "code",
   "execution_count": 68,
   "outputs": [
    {
     "name": "stdout",
     "output_type": "stream",
     "text": [
      "tensor([ 0.0000,  2.5000,  5.0000,  7.5000, 10.0000])\n",
      "tensor([1.0000e+00, 1.2182e+01, 1.4841e+02, 1.8080e+03, 2.2026e+04])\n"
     ]
    },
    {
     "data": {
      "text/plain": "[<matplotlib.lines.Line2D at 0x127e4bf70>]"
     },
     "execution_count": 68,
     "metadata": {},
     "output_type": "execute_result"
    },
    {
     "data": {
      "text/plain": "<Figure size 432x288 with 1 Axes>",
      "image/png": "[encoded data removed]"
     },
     "metadata": {
      "needs_background": "light"
     },
     "output_type": "display_data"
    }
   ],
   "source": [
    "step_tensor = torch.linspace(0, 10, 5)\n",
    "print(step_tensor)\n",
    "exponential_tensor = torch.exp(step_tensor)\n",
    "print(exponential_tensor)\n",
    "plt.plot(step_tensor, exponential_tensor)"
   ],
   "metadata": {
    "collapsed": false,
    "pycharm": {
     "name": "#%%\n"
    }
   }
  },
  {
   "cell_type": "code",
   "execution_count": 69,
   "outputs": [
    {
     "name": "stdout",
     "output_type": "stream",
     "text": [
      "tensor([  0.0000,   1.0101,   2.0202,   3.0303,   4.0404,   5.0505,   6.0606,\n",
      "          7.0707,   8.0808,   9.0909,  10.1010,  11.1111,  12.1212,  13.1313,\n",
      "         14.1414,  15.1515,  16.1616,  17.1717,  18.1818,  19.1919,  20.2020,\n",
      "         21.2121,  22.2222,  23.2323,  24.2424,  25.2525,  26.2626,  27.2727,\n",
      "         28.2828,  29.2929,  30.3030,  31.3131,  32.3232,  33.3333,  34.3434,\n",
      "         35.3535,  36.3636,  37.3737,  38.3838,  39.3939,  40.4040,  41.4141,\n",
      "         42.4242,  43.4343,  44.4444,  45.4545,  46.4646,  47.4747,  48.4848,\n",
      "         49.4949,  50.5051,  51.5152,  52.5253,  53.5354,  54.5455,  55.5556,\n",
      "         56.5657,  57.5758,  58.5859,  59.5960,  60.6061,  61.6162,  62.6263,\n",
      "         63.6364,  64.6465,  65.6566,  66.6667,  67.6768,  68.6869,  69.6970,\n",
      "         70.7071,  71.7172,  72.7273,  73.7374,  74.7475,  75.7576,  76.7677,\n",
      "         77.7778,  78.7879,  79.7980,  80.8081,  81.8182,  82.8283,  83.8384,\n",
      "         84.8485,  85.8586,  86.8687,  87.8788,  88.8889,  89.8990,  90.9091,\n",
      "         91.9192,  92.9293,  93.9394,  94.9495,  95.9596,  96.9697,  97.9798,\n",
      "         98.9899, 100.0000])\n",
      "tensor([ 0.0000,  0.8469,  0.9007,  0.1111, -0.7826, -0.9434, -0.2207,  0.7086,\n",
      "         0.9744,  0.3277, -0.6259, -0.9933, -0.4306,  0.5354,  1.0000,  0.5282,\n",
      "        -0.4383, -0.9943, -0.6192,  0.3357,  0.9763,  0.7026, -0.2290, -0.9462,\n",
      "        -0.7773,  0.1195,  0.9044,  0.8423, -0.0085, -0.8514, -0.8970, -0.1026,\n",
      "         0.7878,  0.9405,  0.2125, -0.7146, -0.9724, -0.3197,  0.6325,  0.9923,\n",
      "         0.4229, -0.5425, -0.9999, -0.5209,  0.4459,  0.9951,  0.6125, -0.3437,\n",
      "        -0.9781, -0.6965,  0.2373,  0.9489,  0.7719, -0.1279, -0.9080, -0.8377,\n",
      "         0.0170,  0.8558,  0.8932,  0.0942, -0.7931, -0.9376, -0.2041,  0.7205,\n",
      "         0.9704,  0.3116, -0.6390, -0.9912, -0.4152,  0.5496,  0.9998,  0.5137,\n",
      "        -0.4535, -0.9959, -0.6058,  0.3517,  0.9798,  0.6904, -0.2455, -0.9515,\n",
      "        -0.7665,  0.1363,  0.9115,  0.8331, -0.0255, -0.8602, -0.8893, -0.0857,\n",
      "         0.7982,  0.9346,  0.1958, -0.7264, -0.9683, -0.3035,  0.6455,  0.9901,\n",
      "         0.4075, -0.5567, -0.9996, -0.5064])\n"
     ]
    },
    {
     "data": {
      "text/plain": "[<matplotlib.lines.Line2D at 0x127ea98b0>]"
     },
     "execution_count": 69,
     "metadata": {},
     "output_type": "execute_result"
    },
    {
     "data": {
      "text/plain": "<Figure size 432x288 with 1 Axes>",
      "image/png": "[encoded data removed]"
     },
     "metadata": {
      "needs_background": "light"
     },
     "output_type": "display_data"
    }
   ],
   "source": [
    "second_step_tensor = torch.linspace(0, 100, 100)\n",
    "print(second_step_tensor)\n",
    "second_exponential_tensor = torch.sin(second_step_tensor)\n",
    "print(second_exponential_tensor)\n",
    "plt.plot(second_step_tensor, second_exponential_tensor)"
   ],
   "metadata": {
    "collapsed": false,
    "pycharm": {
     "name": "#%%\n"
    }
   }
  }
 ],
 "metadata": {
  "kernelspec": {
   "display_name": "Python 3",
   "language": "python",
   "name": "python3"
  },
  "language_info": {
   "codemirror_mode": {
    "name": "ipython",
    "version": 2
   },
   "file_extension": ".py",
   "mimetype": "text/x-python",
   "name": "python",
   "nbconvert_exporter": "python",
   "pygments_lexer": "ipython2",
   "version": "2.7.6"
  }
 },
 "nbformat": 4,
 "nbformat_minor": 0
}
